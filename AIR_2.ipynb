{
  "nbformat": 4,
  "nbformat_minor": 0,
  "metadata": {
    "colab": {
      "name": "Untitled1.ipynb",
      "provenance": [],
      "collapsed_sections": [],
      "authorship_tag": "ABX9TyP3Kz1i1F+R6DWopt9CCBF3",
      "include_colab_link": true
    },
    "kernelspec": {
      "name": "python3",
      "display_name": "Python 3"
    },
    "language_info": {
      "name": "python"
    }
  },
  "cells": [
    {
      "cell_type": "markdown",
      "metadata": {
        "id": "view-in-github",
        "colab_type": "text"
      },
      "source": [
        "<a href=\"https://colab.research.google.com/github/shivamgiri12/project1/blob/master/AIR_2.ipynb\" target=\"_parent\"><img src=\"https://colab.research.google.com/assets/colab-badge.svg\" alt=\"Open In Colab\"/></a>"
      ]
    },
    {
      "cell_type": "code",
      "metadata": {
        "colab": {
          "base_uri": "https://localhost:8080/"
        },
        "id": "7X1abSVQttvA",
        "outputId": "837b0798-57f1-4778-dc9b-c67d5065f30e"
      },
      "source": [
        "\n",
        "from nltk.chat.util import Chat, reflections\n",
        "\n",
        "pairs = [\n",
        "            [\n",
        "                r\"my name is(.*)\",\n",
        "                [\"Hello %1, how are you today?\",]\n",
        "            ],\n",
        "            [\n",
        "                r\"what is your name?\",\n",
        "                [\"My name is Jarvis and I will help you with your finacial queries today.\",]\n",
        "            ],\n",
        "            [\n",
        "                r\"where to put(.*)money\",\n",
        "                [\"Basically there are many options to invest- 1.Regional and 2.Stocks.\\nIn which section would you like to invest?\",]\n",
        "            ],\n",
        "            [\n",
        "                r\"Regional(.*)\",\n",
        "                [\"There are many- SBI,HSBC,DB. Which bank would you like to go for?\",]\n",
        "            ],\n",
        "            [\n",
        "                r\"SBI(.*)\",\n",
        "                [\"SBI offers 10 percent Interest.\",]\n",
        "            ],\n",
        "            [\n",
        "                r\"DB(.*)\",\n",
        "                [\"DB offers 09 percent Interest.\",]\n",
        "            ],\n",
        "            [\n",
        "                r\"HSBC(.*)\",\n",
        "                [\"HSBC offers 11 percent Interest.\",]\n",
        "            ],\n",
        "            [\n",
        "                r\"(.*)Stocks(.*)\",\n",
        "                [\"We have 2 companies to offer: 1. AAA 2. BBB.\\n choose any one to know more.\\n\",]\n",
        "            ],\n",
        "            [\n",
        "                r\"AAA(.*)\",\n",
        "                [\"The company AAA has a ROI = 10 percent\",]\n",
        "            ],\n",
        "            [\n",
        "                r\"BBB(.*)\",\n",
        "                [\"The company BBB has a ROI = 12 percent\",]\n",
        "            ],\n",
        "            [\n",
        "                r\"hi|hey|hello(.*)\",\n",
        "                [\"Hello\", \"Hey there\",]\n",
        "            ],\n",
        "            [\n",
        "                r\"quit\",\n",
        "                [\"Signing out, see you again ^_^\",]\n",
        "            ],\n",
        "        ]\n",
        "\n",
        "def chatbot():\n",
        "    '''Chat is the class that contains all the logic to be used by the chatbot,\n",
        "    reflections is a predefined dictionary containing a set of input values and it's corresponding output values\n",
        "    '''\n",
        "    print(\"Booting up...\\nHey I am a simple ChatBot made with NLTK library.\\n Please type in English language (lower case) what you want to ask me.\\nPress Q to exit\")\n",
        "    chat = Chat(pairs, reflections)\n",
        "    chat.converse()\n",
        "\n",
        "if __name__ == \"__main__\":\n",
        "    chatbot()\n",
        "\n"
      ],
      "execution_count": 1,
      "outputs": [
        {
          "output_type": "stream",
          "text": [
            "Booting up...\n",
            "Hey I am a simple ChatBot made with NLTK library.\n",
            " Please type in English language (lower case) what you want to ask me.\n",
            "Press Q to exit\n",
            ">hi\n",
            "Hey there\n",
            ">my name is shivam\n",
            "Hello  shivam, how are you today?\n",
            ">where to put my money\n",
            "Basically there are many options to invest- 1.Regional and 2.Stocks.\n",
            "In which section would you like to invest?\n",
            ">2\n",
            "None\n",
            ">2. Stocks\n",
            "We have 2 companies to offer: 1. AAA 2. BBB.\n",
            " choose any one to know more.\n",
            "\n",
            ">1. AAA\n",
            "None\n",
            ">quit\n",
            "Signing out, see you again ^_^\n"
          ],
          "name": "stdout"
        }
      ]
    }
  ]
}